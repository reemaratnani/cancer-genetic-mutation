{
  "nbformat": 4,
  "nbformat_minor": 0,
  "metadata": {
    "colab": {
      "name": "nltk-keras.ipynb",
      "version": "0.3.2",
      "provenance": [],
      "collapsed_sections": []
    },
    "kernelspec": {
      "name": "python3",
      "display_name": "Python 3"
    }
  },
  "cells": [
    {
      "cell_type": "code",
      "metadata": {
        "id": "_5Zxo_yKLKYy",
        "colab_type": "code",
        "outputId": "c25821eb-7250-45ee-a090-a6010390893c",
        "colab": {
          "base_uri": "https://localhost:8080/",
          "height": 34
        }
      },
      "source": [
        "import numpy as np \n",
        "import pandas as pd\n",
        "import os\n",
        "import numpy as np\n",
        "import pandas as pd\n",
        "import matplotlib.pyplot as plt\n",
        "from nltk import FreqDist\n",
        "import string\n",
        "from nltk.corpus import stopwords\n",
        "import nltk\n",
        "from nltk import word_tokenize, FreqDist\n",
        "from sklearn.metrics.classification import accuracy_score, log_loss\n",
        "from keras.preprocessing.text import Tokenizer\n",
        "from keras.preprocessing.sequence import pad_sequences\n",
        "from keras.models import Sequential\n",
        "from keras.layers import Dense, Embedding, LSTM\n",
        "from keras.utils.np_utils import to_categorical\n",
        "from keras.callbacks import ModelCheckpoint\n",
        "from keras.models import load_model\n",
        "from keras.optimizers import Adam"
      ],
      "execution_count": 0,
      "outputs": [
        {
          "output_type": "stream",
          "text": [
            "Using TensorFlow backend.\n"
          ],
          "name": "stderr"
        }
      ]
    },
    {
      "cell_type": "code",
      "metadata": {
        "id": "o553BShfi6Ef",
        "colab_type": "code",
        "colab": {}
      },
      "source": [
        "import nltk\n",
        "nltk.download('punkt')\n",
        "nltk.download('stopwords')\n",
        "nltk.download('wordnet')"
      ],
      "execution_count": 0,
      "outputs": []
    },
    {
      "cell_type": "code",
      "metadata": {
        "id": "p07Dl-u0LhAk",
        "colab_type": "code",
        "colab": {}
      },
      "source": [
        "from google.colab import files\n",
        "uploaded = files.upload()\n",
        "\n",
        "\n",
        "!mkdir -p ~/.kaggle/ && mv kaggle.json ~/.kaggle/ && chmod 600 ~/.kaggle/kaggle.json"
      ],
      "execution_count": 0,
      "outputs": []
    },
    {
      "cell_type": "code",
      "metadata": {
        "id": "2eHGfCIqLnU9",
        "colab_type": "code",
        "colab": {}
      },
      "source": [
        "!kaggle competitions download -c msk-redefining-cancer-treatment"
      ],
      "execution_count": 0,
      "outputs": []
    },
    {
      "cell_type": "code",
      "metadata": {
        "id": "Jr6nRrqJImrV",
        "colab_type": "code",
        "colab": {}
      },
      "source": [
        "!unzip training_variants.zip\n",
        "!unzip test_variants.zip\n",
        "!unzip training_text.zip\n",
        "!unzip test_text.zip"
      ],
      "execution_count": 0,
      "outputs": []
    },
    {
      "cell_type": "code",
      "metadata": {
        "id": "U9gufWM0DZwf",
        "colab_type": "code",
        "outputId": "cae92ee3-94c2-4e5b-8f3d-eea747f7dfd4",
        "colab": {
          "base_uri": "https://localhost:8080/",
          "height": 121
        }
      },
      "source": [
        "df_train_txt = pd.read_csv('training_text', sep='\\|\\|', header=None, skiprows=1, names=[\"ID\",\"Text\"])\n",
        "df_train_txt.isnull().sum()"
      ],
      "execution_count": 0,
      "outputs": [
        {
          "output_type": "stream",
          "text": [
            "/usr/local/lib/python3.6/dist-packages/ipykernel_launcher.py:1: ParserWarning: Falling back to the 'python' engine because the 'c' engine does not support regex separators (separators > 1 char and different from '\\s+' are interpreted as regex); you can avoid this warning by specifying engine='python'.\n",
            "  \"\"\"Entry point for launching an IPython kernel.\n"
          ],
          "name": "stderr"
        },
        {
          "output_type": "execute_result",
          "data": {
            "text/plain": [
              "ID      0\n",
              "Text    5\n",
              "dtype: int64"
            ]
          },
          "metadata": {
            "tags": []
          },
          "execution_count": 7
        }
      ]
    },
    {
      "cell_type": "code",
      "metadata": {
        "id": "xJk_4G0XnHBa",
        "colab_type": "code",
        "outputId": "dd7c9530-f930-44b3-b59a-395089a28e09",
        "colab": {
          "base_uri": "https://localhost:8080/",
          "height": 195
        }
      },
      "source": [
        "df_train_txt.dropna(axis=0,how='any', inplace=True)\n",
        "df_train_txt.head()"
      ],
      "execution_count": 0,
      "outputs": [
        {
          "output_type": "execute_result",
          "data": {
            "text/html": [
              "<div>\n",
              "<style scoped>\n",
              "    .dataframe tbody tr th:only-of-type {\n",
              "        vertical-align: middle;\n",
              "    }\n",
              "\n",
              "    .dataframe tbody tr th {\n",
              "        vertical-align: top;\n",
              "    }\n",
              "\n",
              "    .dataframe thead th {\n",
              "        text-align: right;\n",
              "    }\n",
              "</style>\n",
              "<table border=\"1\" class=\"dataframe\">\n",
              "  <thead>\n",
              "    <tr style=\"text-align: right;\">\n",
              "      <th></th>\n",
              "      <th>ID</th>\n",
              "      <th>Text</th>\n",
              "    </tr>\n",
              "  </thead>\n",
              "  <tbody>\n",
              "    <tr>\n",
              "      <th>0</th>\n",
              "      <td>0</td>\n",
              "      <td>Cyclin-dependent kinases (CDKs) regulate a var...</td>\n",
              "    </tr>\n",
              "    <tr>\n",
              "      <th>1</th>\n",
              "      <td>1</td>\n",
              "      <td>Abstract Background  Non-small cell lung canc...</td>\n",
              "    </tr>\n",
              "    <tr>\n",
              "      <th>2</th>\n",
              "      <td>2</td>\n",
              "      <td>Abstract Background  Non-small cell lung canc...</td>\n",
              "    </tr>\n",
              "    <tr>\n",
              "      <th>3</th>\n",
              "      <td>3</td>\n",
              "      <td>Recent evidence has demonstrated that acquired...</td>\n",
              "    </tr>\n",
              "    <tr>\n",
              "      <th>4</th>\n",
              "      <td>4</td>\n",
              "      <td>Oncogenic mutations in the monomeric Casitas B...</td>\n",
              "    </tr>\n",
              "  </tbody>\n",
              "</table>\n",
              "</div>"
            ],
            "text/plain": [
              "   ID                                               Text\n",
              "0   0  Cyclin-dependent kinases (CDKs) regulate a var...\n",
              "1   1   Abstract Background  Non-small cell lung canc...\n",
              "2   2   Abstract Background  Non-small cell lung canc...\n",
              "3   3  Recent evidence has demonstrated that acquired...\n",
              "4   4  Oncogenic mutations in the monomeric Casitas B..."
            ]
          },
          "metadata": {
            "tags": []
          },
          "execution_count": 8
        }
      ]
    },
    {
      "cell_type": "code",
      "metadata": {
        "id": "D3aDw0ZVmwin",
        "colab_type": "code",
        "outputId": "45fa7834-3605-4e8f-fded-a0bcf1777cad",
        "colab": {
          "base_uri": "https://localhost:8080/",
          "height": 101
        }
      },
      "source": [
        "df_train_var = pd.read_csv('training_variants')\n",
        "df_train_var.isnull().sum()"
      ],
      "execution_count": 0,
      "outputs": [
        {
          "output_type": "execute_result",
          "data": {
            "text/plain": [
              "ID           0\n",
              "Gene         0\n",
              "Variation    0\n",
              "Class        0\n",
              "dtype: int64"
            ]
          },
          "metadata": {
            "tags": []
          },
          "execution_count": 9
        }
      ]
    },
    {
      "cell_type": "code",
      "metadata": {
        "id": "ivbyIsWOnmq5",
        "colab_type": "code",
        "outputId": "a31ddce5-8c26-4809-c2ff-a8e6000d42e7",
        "colab": {
          "base_uri": "https://localhost:8080/",
          "height": 195
        }
      },
      "source": [
        "df_train = pd.merge(df_train_var, df_train_txt, how='left', on='ID')\n",
        "df_train.head()"
      ],
      "execution_count": 0,
      "outputs": [
        {
          "output_type": "execute_result",
          "data": {
            "text/html": [
              "<div>\n",
              "<style scoped>\n",
              "    .dataframe tbody tr th:only-of-type {\n",
              "        vertical-align: middle;\n",
              "    }\n",
              "\n",
              "    .dataframe tbody tr th {\n",
              "        vertical-align: top;\n",
              "    }\n",
              "\n",
              "    .dataframe thead th {\n",
              "        text-align: right;\n",
              "    }\n",
              "</style>\n",
              "<table border=\"1\" class=\"dataframe\">\n",
              "  <thead>\n",
              "    <tr style=\"text-align: right;\">\n",
              "      <th></th>\n",
              "      <th>ID</th>\n",
              "      <th>Gene</th>\n",
              "      <th>Variation</th>\n",
              "      <th>Class</th>\n",
              "      <th>Text</th>\n",
              "    </tr>\n",
              "  </thead>\n",
              "  <tbody>\n",
              "    <tr>\n",
              "      <th>0</th>\n",
              "      <td>0</td>\n",
              "      <td>FAM58A</td>\n",
              "      <td>Truncating Mutations</td>\n",
              "      <td>1</td>\n",
              "      <td>Cyclin-dependent kinases (CDKs) regulate a var...</td>\n",
              "    </tr>\n",
              "    <tr>\n",
              "      <th>1</th>\n",
              "      <td>1</td>\n",
              "      <td>CBL</td>\n",
              "      <td>W802*</td>\n",
              "      <td>2</td>\n",
              "      <td>Abstract Background  Non-small cell lung canc...</td>\n",
              "    </tr>\n",
              "    <tr>\n",
              "      <th>2</th>\n",
              "      <td>2</td>\n",
              "      <td>CBL</td>\n",
              "      <td>Q249E</td>\n",
              "      <td>2</td>\n",
              "      <td>Abstract Background  Non-small cell lung canc...</td>\n",
              "    </tr>\n",
              "    <tr>\n",
              "      <th>3</th>\n",
              "      <td>3</td>\n",
              "      <td>CBL</td>\n",
              "      <td>N454D</td>\n",
              "      <td>3</td>\n",
              "      <td>Recent evidence has demonstrated that acquired...</td>\n",
              "    </tr>\n",
              "    <tr>\n",
              "      <th>4</th>\n",
              "      <td>4</td>\n",
              "      <td>CBL</td>\n",
              "      <td>L399V</td>\n",
              "      <td>4</td>\n",
              "      <td>Oncogenic mutations in the monomeric Casitas B...</td>\n",
              "    </tr>\n",
              "  </tbody>\n",
              "</table>\n",
              "</div>"
            ],
            "text/plain": [
              "   ID    Gene  ... Class                                               Text\n",
              "0   0  FAM58A  ...     1  Cyclin-dependent kinases (CDKs) regulate a var...\n",
              "1   1     CBL  ...     2   Abstract Background  Non-small cell lung canc...\n",
              "2   2     CBL  ...     2   Abstract Background  Non-small cell lung canc...\n",
              "3   3     CBL  ...     3  Recent evidence has demonstrated that acquired...\n",
              "4   4     CBL  ...     4  Oncogenic mutations in the monomeric Casitas B...\n",
              "\n",
              "[5 rows x 5 columns]"
            ]
          },
          "metadata": {
            "tags": []
          },
          "execution_count": 10
        }
      ]
    },
    {
      "cell_type": "code",
      "metadata": {
        "id": "5QOCk68SoDS6",
        "colab_type": "code",
        "outputId": "4b5cc63f-4bfe-4af8-e6d5-431959ec958b",
        "colab": {
          "base_uri": "https://localhost:8080/",
          "height": 195
        }
      },
      "source": [
        "df_train[\"Text\"]=df_train[\"Text\"]+\" \"+df_train[\"Gene\"]+\" \"+df_train[\"Variation\"]\n",
        "df_train.head()"
      ],
      "execution_count": 0,
      "outputs": [
        {
          "output_type": "execute_result",
          "data": {
            "text/html": [
              "<div>\n",
              "<style scoped>\n",
              "    .dataframe tbody tr th:only-of-type {\n",
              "        vertical-align: middle;\n",
              "    }\n",
              "\n",
              "    .dataframe tbody tr th {\n",
              "        vertical-align: top;\n",
              "    }\n",
              "\n",
              "    .dataframe thead th {\n",
              "        text-align: right;\n",
              "    }\n",
              "</style>\n",
              "<table border=\"1\" class=\"dataframe\">\n",
              "  <thead>\n",
              "    <tr style=\"text-align: right;\">\n",
              "      <th></th>\n",
              "      <th>ID</th>\n",
              "      <th>Gene</th>\n",
              "      <th>Variation</th>\n",
              "      <th>Class</th>\n",
              "      <th>Text</th>\n",
              "    </tr>\n",
              "  </thead>\n",
              "  <tbody>\n",
              "    <tr>\n",
              "      <th>0</th>\n",
              "      <td>0</td>\n",
              "      <td>FAM58A</td>\n",
              "      <td>Truncating Mutations</td>\n",
              "      <td>1</td>\n",
              "      <td>Cyclin-dependent kinases (CDKs) regulate a var...</td>\n",
              "    </tr>\n",
              "    <tr>\n",
              "      <th>1</th>\n",
              "      <td>1</td>\n",
              "      <td>CBL</td>\n",
              "      <td>W802*</td>\n",
              "      <td>2</td>\n",
              "      <td>Abstract Background  Non-small cell lung canc...</td>\n",
              "    </tr>\n",
              "    <tr>\n",
              "      <th>2</th>\n",
              "      <td>2</td>\n",
              "      <td>CBL</td>\n",
              "      <td>Q249E</td>\n",
              "      <td>2</td>\n",
              "      <td>Abstract Background  Non-small cell lung canc...</td>\n",
              "    </tr>\n",
              "    <tr>\n",
              "      <th>3</th>\n",
              "      <td>3</td>\n",
              "      <td>CBL</td>\n",
              "      <td>N454D</td>\n",
              "      <td>3</td>\n",
              "      <td>Recent evidence has demonstrated that acquired...</td>\n",
              "    </tr>\n",
              "    <tr>\n",
              "      <th>4</th>\n",
              "      <td>4</td>\n",
              "      <td>CBL</td>\n",
              "      <td>L399V</td>\n",
              "      <td>4</td>\n",
              "      <td>Oncogenic mutations in the monomeric Casitas B...</td>\n",
              "    </tr>\n",
              "  </tbody>\n",
              "</table>\n",
              "</div>"
            ],
            "text/plain": [
              "   ID    Gene  ... Class                                               Text\n",
              "0   0  FAM58A  ...     1  Cyclin-dependent kinases (CDKs) regulate a var...\n",
              "1   1     CBL  ...     2   Abstract Background  Non-small cell lung canc...\n",
              "2   2     CBL  ...     2   Abstract Background  Non-small cell lung canc...\n",
              "3   3     CBL  ...     3  Recent evidence has demonstrated that acquired...\n",
              "4   4     CBL  ...     4  Oncogenic mutations in the monomeric Casitas B...\n",
              "\n",
              "[5 rows x 5 columns]"
            ]
          },
          "metadata": {
            "tags": []
          },
          "execution_count": 11
        }
      ]
    },
    {
      "cell_type": "code",
      "metadata": {
        "id": "eugCpC-uicYH",
        "colab_type": "code",
        "colab": {}
      },
      "source": [
        "stop = stopwords.words('english')+[\"mutat\",\"cell\",\"cancer\",\"fig\",\"mutant\"]\n",
        "snowball = nltk.SnowballStemmer('english')\n",
        "WNlemma = nltk.WordNetLemmatizer()\n",
        "def preprocess(toks):\n",
        "    toks = [ t.lower() for t in toks if t not in string.punctuation ]\n",
        "    toks = [t for t in toks if t not in stop ]\n",
        "    toks = [ snowball.stem(t) for t in toks ]\n",
        "    toks = [ WNlemma.lemmatize(t) for t in toks ]\n",
        "    toks = [t for t in toks if t not in stop ]\n",
        "    #toks_clean = [ t for t in toks if len(t) >= 3 ]\n",
        "    return toks"
      ],
      "execution_count": 0,
      "outputs": []
    },
    {
      "cell_type": "code",
      "metadata": {
        "id": "xEfh4v0PFYpa",
        "colab_type": "code",
        "colab": {}
      },
      "source": [
        "df_train['Text']=df_train['Text'].apply(lambda x: str(x))\n",
        "df_train['Tokens'] = df_train['Text'].apply(lambda x: word_tokenize(x))\n",
        "df_train['Tokens_clean'] = df_train['Tokens'].apply(lambda x: preprocess(x))\n",
        "df_train['Clean_text'] = df_train['Tokens_clean'].apply(lambda x: ' '.join(x))\n",
        "df_train['Length']=df_train['Tokens_clean'].apply(lambda x: len(x))"
      ],
      "execution_count": 0,
      "outputs": []
    },
    {
      "cell_type": "code",
      "metadata": {
        "id": "Hg0G2CTVtNUY",
        "colab_type": "code",
        "outputId": "376a1563-12a5-4b79-f64a-3c541941a9f8",
        "colab": {
          "base_uri": "https://localhost:8080/",
          "height": 363
        }
      },
      "source": [
        "df_train.head()"
      ],
      "execution_count": 0,
      "outputs": [
        {
          "output_type": "execute_result",
          "data": {
            "text/html": [
              "<div>\n",
              "<style scoped>\n",
              "    .dataframe tbody tr th:only-of-type {\n",
              "        vertical-align: middle;\n",
              "    }\n",
              "\n",
              "    .dataframe tbody tr th {\n",
              "        vertical-align: top;\n",
              "    }\n",
              "\n",
              "    .dataframe thead th {\n",
              "        text-align: right;\n",
              "    }\n",
              "</style>\n",
              "<table border=\"1\" class=\"dataframe\">\n",
              "  <thead>\n",
              "    <tr style=\"text-align: right;\">\n",
              "      <th></th>\n",
              "      <th>ID</th>\n",
              "      <th>Gene</th>\n",
              "      <th>Variation</th>\n",
              "      <th>Class</th>\n",
              "      <th>Text</th>\n",
              "      <th>Tokens</th>\n",
              "      <th>Tokens_clean</th>\n",
              "      <th>Clean_text</th>\n",
              "      <th>Length</th>\n",
              "    </tr>\n",
              "  </thead>\n",
              "  <tbody>\n",
              "    <tr>\n",
              "      <th>0</th>\n",
              "      <td>0</td>\n",
              "      <td>FAM58A</td>\n",
              "      <td>Truncating Mutations</td>\n",
              "      <td>1</td>\n",
              "      <td>Cyclin-dependent kinases (CDKs) regulate a var...</td>\n",
              "      <td>[Cyclin-dependent, kinases, (, CDKs, ), regula...</td>\n",
              "      <td>[cyclin-depend, kina, cdks, regul, varieti, fu...</td>\n",
              "      <td>cyclin-depend kina cdks regul varieti fundamen...</td>\n",
              "      <td>3868</td>\n",
              "    </tr>\n",
              "    <tr>\n",
              "      <th>1</th>\n",
              "      <td>1</td>\n",
              "      <td>CBL</td>\n",
              "      <td>W802*</td>\n",
              "      <td>2</td>\n",
              "      <td>Abstract Background  Non-small cell lung canc...</td>\n",
              "      <td>[Abstract, Background, Non-small, cell, lung, ...</td>\n",
              "      <td>[abstract, background, non-smal, lung, nsclc, ...</td>\n",
              "      <td>abstract background non-smal lung nsclc hetero...</td>\n",
              "      <td>3489</td>\n",
              "    </tr>\n",
              "    <tr>\n",
              "      <th>2</th>\n",
              "      <td>2</td>\n",
              "      <td>CBL</td>\n",
              "      <td>Q249E</td>\n",
              "      <td>2</td>\n",
              "      <td>Abstract Background  Non-small cell lung canc...</td>\n",
              "      <td>[Abstract, Background, Non-small, cell, lung, ...</td>\n",
              "      <td>[abstract, background, non-smal, lung, nsclc, ...</td>\n",
              "      <td>abstract background non-smal lung nsclc hetero...</td>\n",
              "      <td>3489</td>\n",
              "    </tr>\n",
              "    <tr>\n",
              "      <th>3</th>\n",
              "      <td>3</td>\n",
              "      <td>CBL</td>\n",
              "      <td>N454D</td>\n",
              "      <td>3</td>\n",
              "      <td>Recent evidence has demonstrated that acquired...</td>\n",
              "      <td>[Recent, evidence, has, demonstrated, that, ac...</td>\n",
              "      <td>[recent, evid, demonstr, acquir, uniparent, di...</td>\n",
              "      <td>recent evid demonstr acquir uniparent disomi a...</td>\n",
              "      <td>3514</td>\n",
              "    </tr>\n",
              "    <tr>\n",
              "      <th>4</th>\n",
              "      <td>4</td>\n",
              "      <td>CBL</td>\n",
              "      <td>L399V</td>\n",
              "      <td>4</td>\n",
              "      <td>Oncogenic mutations in the monomeric Casitas B...</td>\n",
              "      <td>[Oncogenic, mutations, in, the, monomeric, Cas...</td>\n",
              "      <td>[oncogen, monomer, casita, b-lineag, lymphoma,...</td>\n",
              "      <td>oncogen monomer casita b-lineag lymphoma cbl g...</td>\n",
              "      <td>3698</td>\n",
              "    </tr>\n",
              "  </tbody>\n",
              "</table>\n",
              "</div>"
            ],
            "text/plain": [
              "   ID    Gene  ...                                         Clean_text  Length\n",
              "0   0  FAM58A  ...  cyclin-depend kina cdks regul varieti fundamen...    3868\n",
              "1   1     CBL  ...  abstract background non-smal lung nsclc hetero...    3489\n",
              "2   2     CBL  ...  abstract background non-smal lung nsclc hetero...    3489\n",
              "3   3     CBL  ...  recent evid demonstr acquir uniparent disomi a...    3514\n",
              "4   4     CBL  ...  oncogen monomer casita b-lineag lymphoma cbl g...    3698\n",
              "\n",
              "[5 rows x 9 columns]"
            ]
          },
          "metadata": {
            "tags": []
          },
          "execution_count": 14
        }
      ]
    },
    {
      "cell_type": "code",
      "metadata": {
        "id": "NFB4Y-UTwJzL",
        "colab_type": "code",
        "colab": {}
      },
      "source": [
        "# Use the Keras tokenizer\n",
        "num_words = 2000\n",
        "tokenizer = Tokenizer(num_words=num_words)\n",
        "tokenizer.fit_on_texts(df_train['Clean_text'].values)"
      ],
      "execution_count": 0,
      "outputs": []
    },
    {
      "cell_type": "code",
      "metadata": {
        "id": "2rLVBo785yDz",
        "colab_type": "code",
        "outputId": "581266fa-2e06-46be-ef02-18d6d21b2978",
        "colab": {
          "base_uri": "https://localhost:8080/",
          "height": 34
        }
      },
      "source": [
        "word_index = tokenizer.word_index\n",
        "print('Found %s unique tokens.' % len(word_index))"
      ],
      "execution_count": 0,
      "outputs": [
        {
          "output_type": "stream",
          "text": [
            "Found 162825 unique tokens.\n"
          ],
          "name": "stdout"
        }
      ]
    },
    {
      "cell_type": "code",
      "metadata": {
        "id": "sctJXoKrwNfU",
        "colab_type": "code",
        "outputId": "123746cf-aea2-4937-ea5a-3d80381b2282",
        "colab": {
          "base_uri": "https://localhost:8080/",
          "height": 34
        }
      },
      "source": [
        "# Pad the data \n",
        "X = tokenizer.texts_to_sequences(df_train['Clean_text'].values)\n",
        "X = pad_sequences(X, maxlen=2000)\n",
        "print('Shape of data tensor:', X.shape)"
      ],
      "execution_count": 0,
      "outputs": [
        {
          "output_type": "stream",
          "text": [
            "Shape of data tensor: (3321, 2000)\n"
          ],
          "name": "stdout"
        }
      ]
    },
    {
      "cell_type": "code",
      "metadata": {
        "id": "1r3vOPKJwQDq",
        "colab_type": "code",
        "outputId": "adb738c7-5017-4b27-a69c-f9de32c813b4",
        "colab": {
          "base_uri": "https://localhost:8080/",
          "height": 373
        }
      },
      "source": [
        "# Build simple LSTM\n",
        "embed_dim = 128\n",
        "lstm_out = 196\n",
        "\n",
        "# Model saving callback\n",
        "ckpt_callback = ModelCheckpoint('keras_model', \n",
        "                                 monitor='val_loss', \n",
        "                                 verbose=1, \n",
        "                                 save_best_only=True, \n",
        "                                 mode='auto')\n",
        "\n",
        "model = Sequential()\n",
        "model.add(Embedding(num_words, embed_dim, input_length = X.shape[1]))\n",
        "model.add(LSTM(lstm_out, recurrent_dropout=0.2, dropout=0.2))\n",
        "model.add(Dense(9,activation='softmax'))\n",
        "model.compile(loss = 'categorical_crossentropy', optimizer='adam', metrics = ['categorical_crossentropy'])\n",
        "print(model.summary())"
      ],
      "execution_count": 0,
      "outputs": [
        {
          "output_type": "stream",
          "text": [
            "WARNING:tensorflow:From /usr/local/lib/python3.6/dist-packages/tensorflow/python/framework/op_def_library.py:263: colocate_with (from tensorflow.python.framework.ops) is deprecated and will be removed in a future version.\n",
            "Instructions for updating:\n",
            "Colocations handled automatically by placer.\n",
            "WARNING:tensorflow:From /usr/local/lib/python3.6/dist-packages/keras/backend/tensorflow_backend.py:3445: calling dropout (from tensorflow.python.ops.nn_ops) with keep_prob is deprecated and will be removed in a future version.\n",
            "Instructions for updating:\n",
            "Please use `rate` instead of `keep_prob`. Rate should be set to `rate = 1 - keep_prob`.\n",
            "_________________________________________________________________\n",
            "Layer (type)                 Output Shape              Param #   \n",
            "=================================================================\n",
            "embedding_1 (Embedding)      (None, 2000, 128)         256000    \n",
            "_________________________________________________________________\n",
            "lstm_1 (LSTM)                (None, 196)               254800    \n",
            "_________________________________________________________________\n",
            "dense_1 (Dense)              (None, 9)                 1773      \n",
            "=================================================================\n",
            "Total params: 512,573\n",
            "Trainable params: 512,573\n",
            "Non-trainable params: 0\n",
            "_________________________________________________________________\n",
            "None\n"
          ],
          "name": "stdout"
        }
      ]
    },
    {
      "cell_type": "code",
      "metadata": {
        "id": "96iGhOV8wWJs",
        "colab_type": "code",
        "outputId": "e1f2447a-2f46-4deb-b53a-37e9d594cecb",
        "colab": {
          "base_uri": "https://localhost:8080/",
          "height": 50
        }
      },
      "source": [
        "from sklearn.model_selection import train_test_split\n",
        "Y = pd.get_dummies(df_train['Class']).values\n",
        "X_train, X_test, Y_train, Y_test = train_test_split(X, Y, test_size = 0.2, random_state = 42, stratify=Y)\n",
        "print(X_train.shape, Y_train.shape)\n",
        "print(X_test.shape, Y_test.shape)"
      ],
      "execution_count": 0,
      "outputs": [
        {
          "output_type": "stream",
          "text": [
            "(2656, 2000) (2656, 9)\n",
            "(665, 2000) (665, 9)\n"
          ],
          "name": "stdout"
        }
      ]
    },
    {
      "cell_type": "code",
      "metadata": {
        "id": "GanOri-OwbhP",
        "colab_type": "code",
        "outputId": "159403ef-0bab-42b8-80ed-64fd40c0f6a9",
        "colab": {
          "base_uri": "https://localhost:8080/",
          "height": 507
        }
      },
      "source": [
        "batch_size = 32\n",
        "history = model.fit(X_train, Y_train, epochs=6, batch_size=batch_size, validation_split=0.2, \n",
        "                    callbacks=[ckpt_callback])"
      ],
      "execution_count": 0,
      "outputs": [
        {
          "output_type": "stream",
          "text": [
            "WARNING:tensorflow:From /usr/local/lib/python3.6/dist-packages/tensorflow/python/ops/math_ops.py:3066: to_int32 (from tensorflow.python.ops.math_ops) is deprecated and will be removed in a future version.\n",
            "Instructions for updating:\n",
            "Use tf.cast instead.\n",
            "Train on 2124 samples, validate on 532 samples\n",
            "Epoch 1/6\n",
            "2124/2124 [==============================] - 466s 219ms/step - loss: 1.8139 - categorical_crossentropy: 1.8139 - val_loss: 1.5245 - val_categorical_crossentropy: 1.5245\n",
            "\n",
            "Epoch 00001: val_loss improved from inf to 1.52450, saving model to keras_model\n",
            "Epoch 2/6\n",
            "2124/2124 [==============================] - 463s 218ms/step - loss: 1.2678 - categorical_crossentropy: 1.2678 - val_loss: 1.1681 - val_categorical_crossentropy: 1.1681\n",
            "\n",
            "Epoch 00002: val_loss improved from 1.52450 to 1.16814, saving model to keras_model\n",
            "Epoch 3/6\n",
            "2124/2124 [==============================] - 463s 218ms/step - loss: 0.9774 - categorical_crossentropy: 0.9774 - val_loss: 1.0593 - val_categorical_crossentropy: 1.0593\n",
            "\n",
            "Epoch 00003: val_loss improved from 1.16814 to 1.05928, saving model to keras_model\n",
            "Epoch 4/6\n",
            "2124/2124 [==============================] - 465s 219ms/step - loss: 0.8262 - categorical_crossentropy: 0.8262 - val_loss: 1.0374 - val_categorical_crossentropy: 1.0374\n",
            "\n",
            "Epoch 00004: val_loss improved from 1.05928 to 1.03741, saving model to keras_model\n",
            "Epoch 5/6\n",
            "2124/2124 [==============================] - 464s 219ms/step - loss: 0.7272 - categorical_crossentropy: 0.7272 - val_loss: 1.0333 - val_categorical_crossentropy: 1.0333\n",
            "\n",
            "Epoch 00005: val_loss improved from 1.03741 to 1.03328, saving model to keras_model\n",
            "Epoch 6/6\n",
            "2124/2124 [==============================] - 464s 219ms/step - loss: 0.6204 - categorical_crossentropy: 0.6204 - val_loss: 1.0429 - val_categorical_crossentropy: 1.0429\n",
            "\n",
            "Epoch 00006: val_loss did not improve from 1.03328\n"
          ],
          "name": "stdout"
        }
      ]
    },
    {
      "cell_type": "code",
      "metadata": {
        "id": "pCrFQ3jCxY0m",
        "colab_type": "code",
        "outputId": "675cf126-e5f5-4de8-901b-67ddb349f583",
        "colab": {
          "base_uri": "https://localhost:8080/",
          "height": 295
        }
      },
      "source": [
        "# Plot training & validation loss values\n",
        "import matplotlib.pyplot as plt\n",
        "%matplotlib inline\n",
        "plt.plot(history.history['loss'])\n",
        "plt.plot(history.history['val_loss'])\n",
        "plt.title('Model loss')\n",
        "plt.ylabel('loss')\n",
        "plt.xlabel('Epoch')\n",
        "plt.legend(['Train', 'validation'], loc='best')\n",
        "plt.show()"
      ],
      "execution_count": 0,
      "outputs": [
        {
          "output_type": "display_data",
          "data": {
            "image/png": "[encoded data removed]",
            "text/plain": [
              "<Figure size 432x288 with 1 Axes>"
            ]
          },
          "metadata": {
            "tags": []
          }
        }
      ]
    },
    {
      "cell_type": "code",
      "metadata": {
        "id": "aR-zTHC0xeMW",
        "colab_type": "code",
        "colab": {}
      },
      "source": [
        "model = load_model('keras_model')"
      ],
      "execution_count": 0,
      "outputs": []
    },
    {
      "cell_type": "code",
      "metadata": {
        "id": "sksGtSpfxlw2",
        "colab_type": "code",
        "colab": {}
      },
      "source": [
        "probas = model.predict(X_test)"
      ],
      "execution_count": 0,
      "outputs": []
    },
    {
      "cell_type": "code",
      "metadata": {
        "id": "hIum1i0axtK2",
        "colab_type": "code",
        "outputId": "8da704c3-d64d-4c70-f40d-72428fa9fbcc",
        "colab": {
          "base_uri": "https://localhost:8080/",
          "height": 50
        }
      },
      "source": [
        "pred_indices = np.argmax(probas, axis=1)\n",
        "classes = np.array(range(1, 10))\n",
        "preds = classes[pred_indices]\n",
        "print('Log loss: {}'.format(log_loss(classes[np.argmax(Y_test, axis=1)], probas)))\n",
        "print('Accuracy: {}'.format(accuracy_score(classes[np.argmax(Y_test, axis=1)], preds)))"
      ],
      "execution_count": 0,
      "outputs": [
        {
          "output_type": "stream",
          "text": [
            "Log loss: 1.1267439409502242\n",
            "Accuracy: 0.6300751879699248\n"
          ],
          "name": "stdout"
        }
      ]
    },
    {
      "cell_type": "code",
      "metadata": {
        "id": "y4xT4yBRnXDj",
        "colab_type": "code",
        "colab": {}
      },
      "source": [
        "def plot_confusion_matrix(cm, classes,\n",
        "                          normalize=False,\n",
        "                          title='Confusion matrix',\n",
        "                          cmap=plt.cm.Blues):\n",
        "    \"\"\"\n",
        "    This function prints and plots the confusion matrix.\n",
        "    Normalization can be applied by setting `normalize=True`.\n",
        "    \"\"\"\n",
        "    if normalize:\n",
        "        cm = cm.astype('float') / cm.sum(axis=1)[:, np.newaxis]\n",
        "        print(\"Normalized confusion matrix\")\n",
        "    else:\n",
        "        print('Confusion matrix')\n",
        "\n",
        "    plt.imshow(cm, interpolation='nearest', cmap=cmap)\n",
        "    plt.title(title)\n",
        "    plt.colorbar()\n",
        "    tick_marks = np.arange(len(classes))\n",
        "    plt.xticks(tick_marks, classes, rotation=45)\n",
        "    plt.yticks(tick_marks, classes)\n",
        "\n",
        "    fmt = '.2f' if normalize else 'd'\n",
        "    thresh = cm.max() / 2.\n",
        "    for i, j in itertools.product(range(cm.shape[0]), range(cm.shape[1])):\n",
        "        plt.text(j, i, format(cm[i, j], fmt),\n",
        "                 horizontalalignment=\"center\",\n",
        "                 color=\"white\" if cm[i, j] > thresh else \"black\")\n",
        "\n",
        "    plt.tight_layout()\n",
        "    plt.ylabel('True label')\n",
        "    plt.xlabel('Predicted label')"
      ],
      "execution_count": 0,
      "outputs": []
    },
    {
      "cell_type": "code",
      "metadata": {
        "id": "2REU6EYV29HO",
        "colab_type": "code",
        "outputId": "bc419a35-5766-4787-ad49-c773fe1ef258",
        "colab": {
          "base_uri": "https://localhost:8080/",
          "height": 345
        }
      },
      "source": [
        "from sklearn import metrics \n",
        "import itertools\n",
        "# print(metrics.classification_report(Y_test, probas))\n",
        "cnf_matrix= metrics.confusion_matrix(Y_test.argmax(axis=1), probas.argmax(axis=1))\n",
        "plot_confusion_matrix(cnf_matrix, classes=[i for i in range(1,10)],\n",
        "                      title='Confusion matrix, without normalization')\n",
        "plt.figure()\n",
        "plt.show()"
      ],
      "execution_count": 0,
      "outputs": [
        {
          "output_type": "stream",
          "text": [
            "Confusion matrix\n"
          ],
          "name": "stdout"
        },
        {
          "output_type": "display_data",
          "data": {
            "image/png": "[encoded data removed]",
            "text/plain": [
              "<Figure size 432x288 with 2 Axes>"
            ]
          },
          "metadata": {
            "tags": []
          }
        },
        {
          "output_type": "display_data",
          "data": {
            "text/plain": [
              "<Figure size 432x288 with 0 Axes>"
            ]
          },
          "metadata": {
            "tags": []
          }
        }
      ]
    },
    {
      "cell_type": "code",
      "metadata": {
        "id": "6pV2QYhDlbOv",
        "colab_type": "code",
        "colab": {}
      },
      "source": [
        ""
      ],
      "execution_count": 0,
      "outputs": []
    }
  ]
}